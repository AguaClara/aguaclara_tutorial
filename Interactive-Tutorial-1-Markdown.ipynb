{
  "nbformat": 4,
  "nbformat_minor": 0,
  "metadata": {
    "colab": {
      "name": "Interactive-Tutorial-1-Markdown.ipynb",
      "version": "0.3.2",
      "provenance": [],
      "include_colab_link": true
    },
    "kernelspec": {
      "name": "python3",
      "display_name": "Python 3"
    }
  },
  "cells": [
    {
      "cell_type": "markdown",
      "metadata": {
        "id": "view-in-github",
        "colab_type": "text"
      },
      "source": [
        "<a href=\"https://colab.research.google.com/github/AguaClara/aguaclara_tutorial/blob/master/Interactive-Tutorial-1-Markdown.ipynb\" target=\"_parent\"><img src=\"https://colab.research.google.com/assets/colab-badge.svg\" alt=\"Open In Colab\"/></a>"
      ]
    },
    {
      "cell_type": "markdown",
      "metadata": {
        "id": "EdZzk4449ehn",
        "colab_type": "text"
      },
      "source": [
        "# Interactive Tutorial 1: Markdown\n",
        "\n",
        "Let's get started with writing Markdown! **Double click each text cell to add your answer.** Remember to refer back to the [Markdown Basics](https://aguaclara.github.io/aguaclara_tutorial/markdown/markdown-basics.html) page of the AguaClara Tutorial Wiki if you need help.\n"
      ]
    },
    {
      "cell_type": "markdown",
      "metadata": {
        "id": "mrSlVoNf2NGj",
        "colab_type": "text"
      },
      "source": [
        "## Basic Text\n",
        "\n",
        "Write two sentences about yourself, each in a different paragraph.\n",
        "\n",
        "<!--- Write your answer here. --->"
      ]
    },
    {
      "cell_type": "markdown",
      "metadata": {
        "id": "yhNA80Oo2QAZ",
        "colab_type": "text"
      },
      "source": [
        "## Headers\n",
        "\n",
        "Make a 3rd level header with your name:\n",
        "\n",
        "<!--- Write your answer here. --->"
      ]
    },
    {
      "cell_type": "markdown",
      "metadata": {
        "id": "McWxuO302S4D",
        "colab_type": "text"
      },
      "source": [
        "## Emphasis\n",
        "\n",
        "Write 4 of your favorite words using each type of emphasis:\n",
        "\n",
        "<!--- Write your answer here. --->"
      ]
    },
    {
      "cell_type": "markdown",
      "metadata": {
        "id": "eUkU-d9P2VLQ",
        "colab_type": "text"
      },
      "source": [
        "## Lists\n",
        "\n",
        "Make an ordered list of 3 things you hope to achieve this semester, and elaborate on them with sub items. Then, make an unordered list of 3 classes that you're taking this semester:\n",
        "\n",
        "<!--- Write your answer here. --->"
      ]
    },
    {
      "cell_type": "markdown",
      "metadata": {
        "id": "I5zJwwkX2XpQ",
        "colab_type": "text"
      },
      "source": [
        "## Links\n",
        "\n",
        "Write a sentence describing your major, and insert a link to your major's department website:\n",
        "\n",
        "<!--- Write your answer here. --->"
      ]
    },
    {
      "cell_type": "markdown",
      "metadata": {
        "id": "LW_KbicC2ZdX",
        "colab_type": "text"
      },
      "source": [
        "## Images\n",
        "\n",
        "Insert the image with the URL https://raw.githubusercontent.com/AguaClara/aguaclara_tutorial/master/images/Cornell_University_seal.png using\n",
        "  1. the `![display text](URL)` format\n",
        "  2. the HTML format, with adjusted dimensions and/or text alignment\n",
        "\n",
        "<!--- Write your answer here. --->"
      ]
    },
    {
      "cell_type": "markdown",
      "metadata": {
        "id": "n0O7zDwq2beT",
        "colab_type": "text"
      },
      "source": [
        "## Code Formatting\n",
        "\n",
        "Put the name of this file in an in-line code format. Hint: use a single backtick (`).\n",
        "\n",
        "<!-- Write your answer here. -->"
      ]
    },
    {
      "cell_type": "markdown",
      "metadata": {
        "id": "-Ofi86rN2dlT",
        "colab_type": "text"
      },
      "source": [
        "## Tables\n",
        "\n",
        "Create a table listing your 3 favorite animals, books, and places on campus. Use a different alignment for each column.\n",
        "\n",
        "<!--- Write your answer here. --->"
      ]
    },
    {
      "cell_type": "markdown",
      "metadata": {
        "id": "EwV1a5Oe2flq",
        "colab_type": "text"
      },
      "source": [
        "## Blockquotes\n",
        "\n",
        "Write your favorite quote. It must be attributed to Albert Einstein.\n",
        "\n",
        "<!-- Write your answer here. -->"
      ]
    },
    {
      "cell_type": "markdown",
      "metadata": {
        "id": "3W-oC3DZ2hiJ",
        "colab_type": "text"
      },
      "source": [
        "## Horizontal Rules\n",
        "\n",
        "Add a horizontal rule:\n",
        "\n",
        "<!-- Write your answer here. -->"
      ]
    },
    {
      "cell_type": "markdown",
      "metadata": {
        "id": "ISkgUuT-2mF2",
        "colab_type": "text"
      },
      "source": [
        "## LaTeX Formatting\n",
        "\n",
        "Copy the equation towards the end of the [Markdown tutorial](https://github.com/AguaClara/aguaclara_tutorial/wiki/Markdown#latex-formatting) and paste it here:\n",
        "\n",
        "<!-- Write your answer here. -->"
      ]
    }
  ]
}