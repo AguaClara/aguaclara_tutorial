{
  "nbformat": 4,
  "nbformat_minor": 0,
  "metadata": {
    "colab": {
      "name": "Interactive-Tutorial-3-Python-Packages.ipynb",
      "version": "0.3.2",
      "provenance": [],
      "include_colab_link": true
    },
    "kernelspec": {
      "name": "python3",
      "display_name": "Python 3"
    }
  },
  "cells": [
    {
      "cell_type": "markdown",
      "metadata": {
        "id": "view-in-github",
        "colab_type": "text"
      },
      "source": [
        "<a href=\"https://colab.research.google.com/github/AguaClara/aguaclara_tutorial/blob/master/Interactive-Tutorial-3-Python-Packages.ipynb\" target=\"_parent\"><img src=\"https://colab.research.google.com/assets/colab-badge.svg\" alt=\"Open In Colab\"/></a>"
      ]
    },
    {
      "cell_type": "markdown",
      "metadata": {
        "id": "OEZnHpDA4Xn3",
        "colab_type": "text"
      },
      "source": [
        "# Interactive Tutorial 3: Python Packages\n",
        "\n",
        "Welcome to the Python Packages tutorial! Remember that you can refer to the \n",
        "[Python Packages](https://aguaclara.github.io/aguaclara_tutorial/python/python-packages.html) pages in the AguaClara tutorial wiki for help.\n",
        "\n",
        "Before we begin, we'll install the AguaClara Python package."
      ]
    },
    {
      "cell_type": "code",
      "metadata": {
        "id": "DuXN-XjZvh5O",
        "colab_type": "code",
        "colab": {}
      },
      "source": [
        "!pip install aguaclara"
      ],
      "execution_count": 0,
      "outputs": []
    },
    {
      "cell_type": "markdown",
      "metadata": {
        "id": "MxT3iittMXiU",
        "colab_type": "text"
      },
      "source": [
        "1. Use two built-in Python functions to calculate the mean of the numbers in the list."
      ]
    },
    {
      "cell_type": "code",
      "metadata": {
        "id": "_nOuf_twMlP6",
        "colab_type": "code",
        "colab": {}
      },
      "source": [
        "nums = [3, 14, 159, 26, 535, 89, 79, 32]\n",
        "\n",
        "result = # Your answer here\n",
        "\n",
        "print(result)"
      ],
      "execution_count": 0,
      "outputs": []
    },
    {
      "cell_type": "markdown",
      "metadata": {
        "id": "wXcwcEC12H2P",
        "colab_type": "text"
      },
      "source": [
        "2. If `time` is a fraction of day (e.g. 0 means 0:00 and 0.75 means 18:00), determine the hour and minute it represents. Use a built-in function to round to the nearest minute.\n",
        "\n",
        "   *Hint: the built-in function `int()` may also be useful for the hour."
      ]
    },
    {
      "cell_type": "code",
      "metadata": {
        "id": "Emy17IxB3Pnp",
        "colab_type": "code",
        "colab": {}
      },
      "source": [
        "time = 0.5236111111\n",
        "\n",
        "hour = # Your answer here\n",
        "minute = # Your answer here\n",
        "\n",
        "print(hour, \":\", minute)"
      ],
      "execution_count": 0,
      "outputs": []
    },
    {
      "cell_type": "markdown",
      "metadata": {
        "id": "FNIqy2Wmzfkx",
        "colab_type": "text"
      },
      "source": [
        "3. Set `n` equal to your favorite integer. Use a built-in Python function to convert it to a string. Then, use another built-in function to convert it back to an integer."
      ]
    },
    {
      "cell_type": "code",
      "metadata": {
        "id": "xq9zP3vA0AXL",
        "colab_type": "code",
        "colab": {}
      },
      "source": [
        "n = # Your favorite integer\n",
        "\n",
        "n_string = # Your answer here\n",
        "n_number = # Your answer here\n",
        "\n",
        "print(n_string)\n",
        "print(n_number)"
      ],
      "execution_count": 0,
      "outputs": []
    },
    {
      "cell_type": "markdown",
      "metadata": {
        "id": "zwYTv-uLMy23",
        "colab_type": "text"
      },
      "source": [
        "4. Use NumPy functions to calculate and print the value of $$\\frac{1}{\\sqrt{2\\pi}} e^{x^2}\\cos(x)$$"
      ]
    },
    {
      "cell_type": "code",
      "metadata": {
        "id": "SLV673uzs2ug",
        "colab_type": "code",
        "colab": {}
      },
      "source": [
        "x = 0.5\n",
        "\n",
        "result = # Your answer here\n",
        "\n",
        "print(result)"
      ],
      "execution_count": 0,
      "outputs": []
    },
    {
      "cell_type": "markdown",
      "metadata": {
        "id": "7myK0j_7tFUM",
        "colab_type": "text"
      },
      "source": [
        "5. Use a Numpy function to get a sequence of odd numbers from 5 to 15."
      ]
    },
    {
      "cell_type": "code",
      "metadata": {
        "id": "To2wYEMWwJPH",
        "colab_type": "code",
        "colab": {}
      },
      "source": [
        "odds = # Your answer here\n",
        "\n",
        "print(odds)"
      ],
      "execution_count": 0,
      "outputs": []
    },
    {
      "cell_type": "markdown",
      "metadata": {
        "id": "8DkuxvGrwmgO",
        "colab_type": "text"
      },
      "source": [
        "6. Use units from the AguaClara Python package to write the speed limit in your home state or country."
      ]
    },
    {
      "cell_type": "code",
      "metadata": {
        "id": "IF0jeZucxEDK",
        "colab_type": "code",
        "colab": {}
      },
      "source": [
        "# Import statement here\n",
        "\n",
        "speed_limit = # Your answer here\n",
        "\n",
        "print(speed_limit)"
      ],
      "execution_count": 0,
      "outputs": []
    },
    {
      "cell_type": "markdown",
      "metadata": {
        "id": "syCrvqLyxjUm",
        "colab_type": "text"
      },
      "source": [
        "7. Use a function from the AguaClara package to calculate the area of a circle with a diameter of 4 centimeters. Print your answer with 4 sig figs with the help of another function from the package."
      ]
    },
    {
      "cell_type": "code",
      "metadata": {
        "id": "eTcSLyeTxiYY",
        "colab_type": "code",
        "colab": {}
      },
      "source": [
        "# Import statement here\n",
        "\n",
        "area = # Your answer here\n",
        "\n",
        "print(area)"
      ],
      "execution_count": 0,
      "outputs": []
    },
    {
      "cell_type": "markdown",
      "metadata": {
        "id": "rwXbUHxk7cju",
        "colab_type": "text"
      },
      "source": [
        "8. According to the Bernoulli equation, the change in pressure of fluid flowing from the surface of a large reservoir to the end of an outlet located $H$ meters below the surface is $$\\rho \\left(gH - \\frac{v^2}{2}\\right)$$ where $\\rho$ is the fluid's density, $g$ is the gravitational acceleration constant, and $v$ is the velocity of the fluid exiting the outlet.\n",
        "\n",
        "   Write a function that calculates this change in pressure given temperature, the outlet depth, and the exit velcocity as parameters. Assume that the fluid is water and return the pressure in units of pascals. **Test your function with 20˚C, 100 m, and 15 m/s as inputs.**\n",
        "\n",
        "   *Hint: use a function from the AguaClara package to calculate the density of the water at the given temperature. Also, use a constant from the unit registry for $g$.*"
      ]
    },
    {
      "cell_type": "code",
      "metadata": {
        "id": "E__akgzcBOki",
        "colab_type": "code",
        "colab": {}
      },
      "source": [
        "# Your answer here"
      ],
      "execution_count": 0,
      "outputs": []
    }
  ]
}