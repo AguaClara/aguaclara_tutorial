{
  "nbformat": 4,
  "nbformat_minor": 0,
  "metadata": {
    "colab": {
      "name": "Interactive-Tutorial-2-Python-Basics.ipynb",
      "version": "0.3.2",
      "provenance": [],
      "include_colab_link": true
    },
    "kernelspec": {
      "name": "python3",
      "display_name": "Python 3"
    }
  },
  "cells": [
    {
      "cell_type": "markdown",
      "metadata": {
        "id": "view-in-github",
        "colab_type": "text"
      },
      "source": [
        "<a href=\"https://colab.research.google.com/github/AguaClara/aguaclara_tutorial/blob/master/Interactive-Tutorial-2-Python-Basics.ipynb\" target=\"_parent\"><img src=\"https://colab.research.google.com/assets/colab-badge.svg\" alt=\"Open In Colab\"/></a>"
      ]
    },
    {
      "cell_type": "markdown",
      "metadata": {
        "id": "W2ZarukKTCeg",
        "colab_type": "text"
      },
      "source": [
        "# Interactive Tutorial 2: Python Basics\n",
        "\n",
        "Welcome to the Python Basics tutorial! We'll be using code cells in Colab in write and run Python code. Remember that you can refer to the [Python Basics](https://aguaclara.github.io/aguaclara_tutorial/python/python-basics.html) pages in the AguaClara tutorial wiki for help."
      ]
    },
    {
      "cell_type": "markdown",
      "metadata": {
        "id": "uShFw_zOsinn",
        "colab_type": "text"
      },
      "source": [
        "1. Write Monroe's favorite food in a string. \n",
        "   \n",
        "   *Hint: It's rice and beans. Yum, string beans.*"
      ]
    },
    {
      "cell_type": "code",
      "metadata": {
        "id": "gS2HK0QoSOCI",
        "colab_type": "code",
        "colab": {}
      },
      "source": [
        "favorite_food = # Your answer here\n",
        "\n",
        "print(favorite_food)"
      ],
      "execution_count": 0,
      "outputs": []
    },
    {
      "cell_type": "markdown",
      "metadata": {
        "id": "qn1dl1K9sxsh",
        "colab_type": "text"
      },
      "source": [
        "2. Evaluate (1)(2+3)(4^5) using Python math operators."
      ]
    },
    {
      "cell_type": "code",
      "metadata": {
        "id": "0eu5x-w-dOUV",
        "colab_type": "code",
        "colab": {}
      },
      "source": [
        "result = # Your answer here\n",
        "\n",
        "print(result)"
      ],
      "execution_count": 0,
      "outputs": []
    },
    {
      "cell_type": "markdown",
      "metadata": {
        "id": "URYUcneFs6AC",
        "colab_type": "text"
      },
      "source": [
        "3.  Write an expression that evaluates to true if `murky` is false, `colorless` is true, and either `pathogens` or `microbes` is false."
      ]
    },
    {
      "cell_type": "code",
      "metadata": {
        "id": "HhgNU07Fp7y6",
        "colab_type": "code",
        "colab": {}
      },
      "source": [
        "murky = False\n",
        "colorless = False\n",
        "pathogens = True\n",
        "microbes = False\n",
        "safe_water_on_tap = #Your answer here\n",
        "\n",
        "print(safe_water_on_tap)"
      ],
      "execution_count": 0,
      "outputs": []
    },
    {
      "cell_type": "markdown",
      "metadata": {
        "id": "u8w8ffjctFLJ",
        "colab_type": "text"
      },
      "source": [
        "4. Write the month and day of your favorite date as a list of 2 integers."
      ]
    },
    {
      "cell_type": "code",
      "metadata": {
        "id": "8e_oqikmwb_X",
        "colab_type": "code",
        "colab": {}
      },
      "source": [
        "date = # Your answer here\n",
        "\n",
        "print(date)"
      ],
      "execution_count": 0,
      "outputs": []
    },
    {
      "cell_type": "markdown",
      "metadata": {
        "id": "pU8bcsRPtGp2",
        "colab_type": "text"
      },
      "source": [
        "5. Append the year to the end of the date from the previous cell.\n",
        "\n",
        "   Then, change the last element of the list to itself plus one."
      ]
    },
    {
      "cell_type": "code",
      "metadata": {
        "id": "oTCUXisHzOvX",
        "colab_type": "code",
        "colab": {}
      },
      "source": [
        "# Your answer here\n",
        "\n",
        "print(date)"
      ],
      "execution_count": 0,
      "outputs": []
    },
    {
      "cell_type": "markdown",
      "metadata": {
        "id": "qKx4rwbntSYM",
        "colab_type": "text"
      },
      "source": [
        "6. Reassign the density of aluminum to 2.7."
      ]
    },
    {
      "cell_type": "code",
      "metadata": {
        "id": "UUPtsyl50s4G",
        "colab_type": "code",
        "colab": {}
      },
      "source": [
        "density = {'water' : 1, 'pvc': 1.38, 'aluminum': 27}\n",
        "\n",
        "# Your answer here\n",
        "\n",
        "print(density)"
      ],
      "execution_count": 0,
      "outputs": []
    },
    {
      "cell_type": "markdown",
      "metadata": {
        "id": "WFUcSk2atX68",
        "colab_type": "text"
      },
      "source": [
        "7. Write a conditional statement that prints \"Happy \\_\\_!\" if the date in #4 and #5 falls within the dates of your favorite season. If the date is before the season, print \"It's not \\_\\_ yet.\"; if it's after, print \"\\_\\_ has passed.\" (Replace \\_\\_ with your favorite season.) *Hint: get the month and day of the date.*"
      ]
    },
    {
      "cell_type": "code",
      "metadata": {
        "id": "7datLHot03cD",
        "colab_type": "code",
        "colab": {}
      },
      "source": [
        "# Your answer here."
      ],
      "execution_count": 0,
      "outputs": []
    },
    {
      "cell_type": "markdown",
      "metadata": {
        "id": "tuvVJFEyt1v5",
        "colab_type": "text"
      },
      "source": [
        "8. Write a for loop to print all the numbers in the list that are even and greater than 16. \n",
        "   \n",
        "   *Hint: use modulo to determine if numbers are even.*"
      ]
    },
    {
      "cell_type": "code",
      "metadata": {
        "id": "gMAyIx_5htK6",
        "colab_type": "code",
        "colab": {}
      },
      "source": [
        "nums = [3, 14, 159, 26, 535, 89, 79, 32]\n",
        "\n",
        "# Your answer here"
      ],
      "execution_count": 0,
      "outputs": []
    },
    {
      "cell_type": "markdown",
      "metadata": {
        "id": "FwWHB1dJuINq",
        "colab_type": "text"
      },
      "source": [
        "9. Write a while loop to calculate the sum of the numbers in the list from #8 until the first 3-digit number -- don't include this number."
      ]
    },
    {
      "cell_type": "code",
      "metadata": {
        "id": "fXiQpez0pwY-",
        "colab_type": "code",
        "colab": {}
      },
      "source": [
        "sum = # What value should this variable start with?\n",
        "\n",
        "# Your answer here\n",
        "\n",
        "print(sum)"
      ],
      "execution_count": 0,
      "outputs": []
    },
    {
      "cell_type": "markdown",
      "metadata": {
        "id": "rQyqPPPNzb4M",
        "colab_type": "text"
      },
      "source": [
        "10. Write a function called \"double\" that takes in a number and returns its double. Then, call that function so that x is doubled 6 times (((x\\*2)\\*2)\\*2...).\n",
        "  \n",
        "  *Hint: Don't copy and paste the function 6 times!*"
      ]
    },
    {
      "cell_type": "code",
      "metadata": {
        "id": "MYZDFJlj1V3M",
        "colab_type": "code",
        "colab": {}
      },
      "source": [
        "x = 4\n",
        "\n",
        "# Your answer here\n",
        "\n",
        "print(x)"
      ],
      "execution_count": 0,
      "outputs": []
    },
    {
      "cell_type": "markdown",
      "metadata": {
        "id": "mxtgUe0gueW_",
        "colab_type": "text"
      },
      "source": [
        "11. Write a function called \"short\" that takes a list as an input and returns True if the length of the list is less than or equal to 10 and False otherwise.\n",
        "\n",
        "   Then, print the output of the function when called on `a_long_one` and when called on `a_short_one`."
      ]
    },
    {
      "cell_type": "code",
      "metadata": {
        "id": "F4J4lmDthtE7",
        "colab_type": "code",
        "colab": {}
      },
      "source": [
        "a_long_one = [1, 2, 3, 4, 5, 6, 7, 8, 9, 10, 11]\n",
        "a_short_one = [1, 2, 3]\n",
        "\n",
        "# Your answer here"
      ],
      "execution_count": 0,
      "outputs": []
    }
  ]
}